{
 "cells": [
  {
   "cell_type": "code",
   "execution_count": null,
   "metadata": {},
   "outputs": [],
   "source": [
    "import pubchempy as pcp\n",
    "from rdkit import Chem\n",
    "from rdkit.Chem import AllChem\n",
    "import pandas as pd\n",
    "import requests"
   ]
  },
  {
   "cell_type": "code",
   "execution_count": null,
   "metadata": {},
   "outputs": [
    {
     "ename": "AttributeError",
     "evalue": "module 'rdkit.Chem' has no attribute 'MolFromIUPACName'",
     "output_type": "error",
     "traceback": [
      "\u001b[1;31m---------------------------------------------------------------------------\u001b[0m",
      "\u001b[1;31mAttributeError\u001b[0m                            Traceback (most recent call last)",
      "Cell \u001b[1;32mIn[16], line 11\u001b[0m\n\u001b[0;32m      8\u001b[0m     \u001b[38;5;28;01melse\u001b[39;00m:\n\u001b[0;32m      9\u001b[0m         \u001b[38;5;28;01mreturn\u001b[39;00m \u001b[38;5;124m\"\u001b[39m\u001b[38;5;124mInvalid IUPAC name or conversion failed.\u001b[39m\u001b[38;5;124m\"\u001b[39m\n\u001b[1;32m---> 11\u001b[0m a \u001b[38;5;241m=\u001b[39m \u001b[43miupac_to_smiles_rdkit\u001b[49m\u001b[43m(\u001b[49m\u001b[38;5;124;43m\"\u001b[39;49m\u001b[38;5;124;43methanol\u001b[39;49m\u001b[38;5;124;43m\"\u001b[39;49m\u001b[43m)\u001b[49m\n\u001b[0;32m     12\u001b[0m a\n",
      "Cell \u001b[1;32mIn[16], line 3\u001b[0m, in \u001b[0;36miupac_to_smiles_rdkit\u001b[1;34m(iupac_name)\u001b[0m\n\u001b[0;32m      1\u001b[0m \u001b[38;5;28;01mdef\u001b[39;00m \u001b[38;5;21miupac_to_smiles_rdkit\u001b[39m(iupac_name: \u001b[38;5;28mstr\u001b[39m):\n\u001b[0;32m      2\u001b[0m     \u001b[38;5;66;03m# Convert IUPAC name to molecule object\u001b[39;00m\n\u001b[1;32m----> 3\u001b[0m     mol \u001b[38;5;241m=\u001b[39m \u001b[43mChem\u001b[49m\u001b[38;5;241;43m.\u001b[39;49m\u001b[43mMolFromIUPACName\u001b[49m(iupac_name)\n\u001b[0;32m      5\u001b[0m     \u001b[38;5;28;01mif\u001b[39;00m mol:\n\u001b[0;32m      6\u001b[0m         \u001b[38;5;66;03m# Convert molecule to SMILES string\u001b[39;00m\n\u001b[0;32m      7\u001b[0m         \u001b[38;5;28;01mreturn\u001b[39;00m Chem\u001b[38;5;241m.\u001b[39mMolToSmiles(mol)\n",
      "\u001b[1;31mAttributeError\u001b[0m: module 'rdkit.Chem' has no attribute 'MolFromIUPACName'"
     ]
    }
   ],
   "source": [
    "def iupac_to_smiles(iupac_name: str):\n",
    "    # PubChem PUG REST API URL\n",
    "    url = f'https://pubchem.ncbi.nlm.nih.gov/rest/pug/compound/name/{iupac_name}/property/SMILES/json'\n",
    "\n",
    "    # Send a GET request to the API\n",
    "    response = requests.get(url)\n",
    "\n",
    "    # Check if the response was successful\n",
    "    if response.status_code == 200:\n",
    "        data = response.json()\n",
    "        \n",
    "        # Check if SMILES data is in the response\n",
    "        if 'PropertyTable' in data and 'Properties' in data['PropertyTable']:\n",
    "            # Extract SMILES from the response\n",
    "            smiles = data['PropertyTable']['Properties'][0].get('SMILES', None)\n",
    "            if smiles:\n",
    "                return smiles\n",
    "            else:\n",
    "                return \"SMILES not found for this molecule.\"\n",
    "        else:\n",
    "            return \"No SMILES data found in the response.\"\n",
    "    else:\n",
    "        return f\"Error fetching data: {response.status_code}\"\n",
    "\n",
    "# Example usage\n",
    "iupac_name = \"acetone\"\n",
    "smiles = iupac_to_smiles(iupac_name)\n",
    "print(f\"SMILES for {iupac_name}: {smiles}\")"
   ]
  },
  {
   "cell_type": "code",
   "execution_count": 13,
   "metadata": {},
   "outputs": [
    {
     "data": {
      "image/png": "[encoded data removed]",
      "text/plain": [
       "<rdkit.Chem.rdchem.Mol at 0x207b28462d0>"
      ]
     },
     "execution_count": 13,
     "metadata": {},
     "output_type": "execute_result"
    }
   ],
   "source": [
    "molecule = Chem.MolFromSmiles(a.isomeric_smiles)\n",
    "molecule"
   ]
  },
  {
   "cell_type": "code",
   "execution_count": null,
   "metadata": {},
   "outputs": [
    {
     "ename": "AttributeError",
     "evalue": "module 'rdkit.Chem.AllChem' has no attribute 'PredictNMRShifts'",
     "output_type": "error",
     "traceback": [
      "\u001b[1;31m---------------------------------------------------------------------------\u001b[0m",
      "\u001b[1;31mAttributeError\u001b[0m                            Traceback (most recent call last)",
      "Cell \u001b[1;32mIn[15], line 17\u001b[0m\n\u001b[0;32m     14\u001b[0m     df \u001b[38;5;241m=\u001b[39m pd\u001b[38;5;241m.\u001b[39mDataFrame(data)\n\u001b[0;32m     15\u001b[0m     \u001b[38;5;28;01mreturn\u001b[39;00m df\n\u001b[1;32m---> 17\u001b[0m \u001b[43mpredict_nmr_shifts\u001b[49m\u001b[43m(\u001b[49m\u001b[43mmolecule\u001b[49m\u001b[43m)\u001b[49m\n",
      "Cell \u001b[1;32mIn[15], line 6\u001b[0m, in \u001b[0;36mpredict_nmr_shifts\u001b[1;34m(molecule)\u001b[0m\n\u001b[0;32m      3\u001b[0m mol \u001b[38;5;241m=\u001b[39m Chem\u001b[38;5;241m.\u001b[39mAddHs(molecule)\n\u001b[0;32m      5\u001b[0m \u001b[38;5;66;03m# Predict NMR shifts\u001b[39;00m\n\u001b[1;32m----> 6\u001b[0m nmr_shifts \u001b[38;5;241m=\u001b[39m \u001b[43mAllChem\u001b[49m\u001b[38;5;241;43m.\u001b[39;49m\u001b[43mPredictNMRShifts\u001b[49m(mol)\n\u001b[0;32m      8\u001b[0m \u001b[38;5;66;03m# Create a DataFrame with the predicted shifts\u001b[39;00m\n\u001b[0;32m      9\u001b[0m data \u001b[38;5;241m=\u001b[39m {\n\u001b[0;32m     10\u001b[0m     \u001b[38;5;124m'\u001b[39m\u001b[38;5;124mAtom Index\u001b[39m\u001b[38;5;124m'\u001b[39m: [atom\u001b[38;5;241m.\u001b[39mGetIdx() \u001b[38;5;28;01mfor\u001b[39;00m atom \u001b[38;5;129;01min\u001b[39;00m mol\u001b[38;5;241m.\u001b[39mGetAtoms()],\n\u001b[0;32m     11\u001b[0m     \u001b[38;5;124m'\u001b[39m\u001b[38;5;124mElement\u001b[39m\u001b[38;5;124m'\u001b[39m: [atom\u001b[38;5;241m.\u001b[39mGetSymbol() \u001b[38;5;28;01mfor\u001b[39;00m atom \u001b[38;5;129;01min\u001b[39;00m mol\u001b[38;5;241m.\u001b[39mGetAtoms()],\n\u001b[0;32m     12\u001b[0m     \u001b[38;5;124m'\u001b[39m\u001b[38;5;124mNMR Shift (ppm)\u001b[39m\u001b[38;5;124m'\u001b[39m: nmr_shifts\n\u001b[0;32m     13\u001b[0m }\n",
      "\u001b[1;31mAttributeError\u001b[0m: module 'rdkit.Chem.AllChem' has no attribute 'PredictNMRShifts'"
     ]
    }
   ],
   "source": [
    "def predict_nmr_shifts(molecule):\n",
    "    # Add hydrogens to the molecule\n",
    "    mol = Chem.AddHs(molecule)\n",
    "\n",
    "    # Predict NMR shifts\n",
    "    nmr_shifts = AllChem.PredictNMRShifts(mol)\n",
    "\n",
    "    # Create a DataFrame with the predicted shifts\n",
    "    data = {\n",
    "        'Atom Index': [atom.GetIdx() for atom in mol.GetAtoms()],\n",
    "        'Element': [atom.GetSymbol() for atom in mol.GetAtoms()],\n",
    "        'NMR Shift (ppm)': nmr_shifts\n",
    "    }\n",
    "    df = pd.DataFrame(data)\n",
    "    return df\n",
    "\n",
    "predict_nmr_shifts(molecule)"
   ]
  },
  {
   "cell_type": "code",
   "execution_count": null,
   "metadata": {},
   "outputs": [],
   "source": [
    "def main(iupac_name):\n",
    "    # Get the molecule from PubChem\n",
    "    compound = get_molecule_from_iupac(iupac_name)\n",
    "\n",
    "    # Convert the PubChem compound to an RDKit molecule\n",
    "    mol = Chem.MolFromSmiles(compound.isomeric_smiles)\n",
    "\n",
    "    # Predict NMR shifts and create a DataFrame\n",
    "    nmr_df = predict_nmr_shifts(mol)\n",
    "\n",
    "    # Print the DataFrame\n",
    "    print(nmr_df)"
   ]
  }
 ],
 "metadata": {
  "kernelspec": {
   "display_name": "venv",
   "language": "python",
   "name": "python3"
  },
  "language_info": {
   "codemirror_mode": {
    "name": "ipython",
    "version": 3
   },
   "file_extension": ".py",
   "mimetype": "text/x-python",
   "name": "python",
   "nbconvert_exporter": "python",
   "pygments_lexer": "ipython3",
   "version": "3.12.0"
  }
 },
 "nbformat": 4,
 "nbformat_minor": 2
}
